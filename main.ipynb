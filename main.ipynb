{
 "cells": [
  {
   "cell_type": "code",
   "execution_count": null,
   "id": "9074be7e",
   "metadata": {},
   "outputs": [],
   "source": [
    "import random\n",
    "\n",
    "\n",
    "FAIR_PLAYERS = 500\n",
    "CHEATERS = 500\n",
    "\n",
    "K = 5  # How many times each player flips coin\n",
    "THRESHOLD = 5\n",
    "\n",
    "FAIR_PLAYER_PROBABILITY = 0.5\n",
    "CHEATER_PROBABILITY = 0.75\n",
    "\n",
    "\n",
    "class Player:\n",
    "    \n",
    "    def __init__(self):\n",
    "        self.heads = 0\n",
    "        self.tails = 0\n",
    "\n",
    "    def flip_coin(self, k, weight=FAIR_PLAYER_PROBABILITY):\n",
    "        flips = random.choices(population=[\"head\", \"trail\"], weights=[weight, 1 - weight], k=k)\n",
    "        self.heads = flips.count(\"head\")\n",
    "        self.tails = flips.count(\"tail\")\n",
    "\n",
    "\n",
    "class Cheater(Player):\n",
    "\n",
    "    def __init__(self):\n",
    "        super().__init__()\n",
    "\n",
    "    def flip_coin(self, k, weight=CHEATER_PROBABILITY):\n",
    "        super().flip_coin(k, weight)\n",
    "\n",
    "\n",
    "players = [Player() for _ in range(FAIR_PLAYERS)] + [Cheater() for _ in range(CHEATERS)]\n",
    "\n",
    "for i in range(FAIR_PLAYERS + CHEATERS):\n",
    "    players[i].flip_coin(K)\n",
    "\n",
    "possible_cheaters = [p for p in players if p.heads >= THRESHOLD]\n",
    "\n",
    "true_positives = len([p for p in possible_cheaters if type(p) == Cheater])\n",
    "false_positives = len([p for p in possible_cheaters if type(p) == Player])\n",
    "true_negatives = FAIR_PLAYERS - false_positives\n",
    "false_negatives = CHEATERS - true_positives"
   ]
  },
  {
   "cell_type": "code",
   "execution_count": null,
   "id": "e4fdda29",
   "metadata": {},
   "outputs": [],
   "source": [
    "import numpy as np\n",
    "from scipy.stats import binom\n",
    "import matplotlib.pyplot as plt\n",
    "\n",
    "\n",
    "x = np.arange(K + 1)\n",
    "plt.subplot(1, 2, 1)\n",
    "plt.bar(x - 0.07, [binom.pmf(xi, K, FAIR_PLAYER_PROBABILITY) for xi in x])\n",
    "plt.bar(x + 0.07, [binom.pmf(xi, K, CHEATER_PROBABILITY) for xi in x])\n",
    "plt.axvline(x=THRESHOLD, linewidth=2, color=\"k\")\n",
    "\n",
    "labels = [\"TP\", \"FP\", \"TN\", \"FN\"]\n",
    "counts = [true_positives, false_positives, true_negatives, false_negatives]\n",
    "bar_colors = [\"red\", \"blue\", \"green\", \"grey\"]\n",
    "\n",
    "plt.subplot(1, 2, 2)\n",
    "plt.title(f\"{100 * false_positives / FAIR_PLAYERS} % of fair players accused of cheating\\n{100 * true_positives / CHEATERS} % of cheaters caught\")\n",
    "plt.bar(labels, counts, color=bar_colors)\n",
    "plt.tight_layout()\n",
    "plt.show()"
   ]
  }
 ],
 "metadata": {
  "kernelspec": {
   "display_name": "Python 3 (ipykernel)",
   "language": "python",
   "name": "python3"
  },
  "language_info": {
   "codemirror_mode": {
    "name": "ipython",
    "version": 3
   },
   "file_extension": ".py",
   "mimetype": "text/x-python",
   "name": "python",
   "nbconvert_exporter": "python",
   "pygments_lexer": "ipython3",
   "version": "3.10.9"
  }
 },
 "nbformat": 4,
 "nbformat_minor": 5
}
